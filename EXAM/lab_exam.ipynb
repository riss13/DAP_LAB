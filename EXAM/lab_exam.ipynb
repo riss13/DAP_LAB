{
 "cells": [
  {
   "cell_type": "code",
   "execution_count": 1,
   "id": "bc26b09f-df50-401d-93cc-1f964103d728",
   "metadata": {},
   "outputs": [],
   "source": [
    "import pandas as pd"
   ]
  },
  {
   "cell_type": "code",
   "execution_count": 2,
   "id": "7948a05b-d49c-4060-867a-480131e57a38",
   "metadata": {},
   "outputs": [],
   "source": [
    "df = pd.read_csv(\"datasets/world_population.csv\")"
   ]
  },
  {
   "cell_type": "code",
   "execution_count": 13,
   "id": "28a7dd0d-9a51-41be-a728-de60753cad8c",
   "metadata": {},
   "outputs": [
    {
     "name": "stdout",
     "output_type": "stream",
     "text": [
      "<class 'pandas.core.frame.DataFrame'>\n",
      "RangeIndex: 234 entries, 0 to 233\n",
      "Data columns (total 17 columns):\n",
      " #   Column                       Non-Null Count  Dtype  \n",
      "---  ------                       --------------  -----  \n",
      " 0   Rank                         234 non-null    int64  \n",
      " 1   CCA3                         234 non-null    object \n",
      " 2   Country/Territory            234 non-null    object \n",
      " 3   Capital                      234 non-null    object \n",
      " 4   Continent                    234 non-null    object \n",
      " 5   2022 Population              234 non-null    int64  \n",
      " 6   2020 Population              234 non-null    int64  \n",
      " 7   2015 Population              234 non-null    int64  \n",
      " 8   2010 Population              234 non-null    int64  \n",
      " 9   2000 Population              234 non-null    int64  \n",
      " 10  1990 Population              234 non-null    int64  \n",
      " 11  1980 Population              234 non-null    int64  \n",
      " 12  1970 Population              234 non-null    int64  \n",
      " 13  Area (km²)                   234 non-null    int64  \n",
      " 14  Density (per km²)            234 non-null    float64\n",
      " 15  Growth Rate                  234 non-null    float64\n",
      " 16  World Population Percentage  234 non-null    float64\n",
      "dtypes: float64(3), int64(10), object(4)\n",
      "memory usage: 31.2+ KB\n"
     ]
    }
   ],
   "source": [
    "df.info()"
   ]
  },
  {
   "cell_type": "code",
   "execution_count": 5,
   "id": "cdf6e83e-5e9c-45f2-9d85-cb9bfaad3c2f",
   "metadata": {},
   "outputs": [
    {
     "name": "stdout",
     "output_type": "stream",
     "text": [
      "Object `dataset` not found.\n",
      "Number of unique countries/territories: 234\n"
     ]
    }
   ],
   "source": [
    "// How many unique countries/territories are in the dataset?\n",
    "unique_countries = df['Country/Territory'].nunique()\n",
    "print(f\"Number of unique countries/territories: {unique_countries}\")\n",
    "\n"
   ]
  },
  {
   "cell_type": "code",
   "execution_count": 6,
   "id": "03fe9b20-14d4-4156-9737-50849f3659e3",
   "metadata": {},
   "outputs": [
    {
     "name": "stdout",
     "output_type": "stream",
     "text": [
      "Object `dataset` not found.\n",
      "Number of unique continents: 6\n"
     ]
    }
   ],
   "source": [
    "//How many unique continents are represented in the dataset?\n",
    "unique_continents = df['Continent'].nunique()\n",
    "print(f\"Number of unique continents: {unique_continents}\")\n"
   ]
  },
  {
   "cell_type": "code",
   "execution_count": 7,
   "id": "62b0d7a8-a88b-4d5c-a961-31c5097a5b5d",
   "metadata": {},
   "outputs": [
    {
     "name": "stdout",
     "output_type": "stream",
     "text": [
      "Object `population` not found.\n",
      "Mean: 34074414.70940171, Median: 5559944.5, Standard Deviation: 136766424.80476278\n"
     ]
    }
   ],
   "source": [
    "// What is the mean, median, and standard deviation of the 2022 population?\n",
    "mean_population_2022 = df['2022 Population'].mean()\n",
    "median_population_2022 = df['2022 Population'].median()\n",
    "std_population_2022 = df['2022 Population'].std()\n",
    "print(f\"Mean: {mean_population_2022}, Median: {median_population_2022}, Standard Deviation: {std_population_2022}\")\n"
   ]
  },
  {
   "cell_type": "code",
   "execution_count": 10,
   "id": "baff0b87-ea9c-43b7-b558-5a218252853f",
   "metadata": {},
   "outputs": [
    {
     "name": "stdout",
     "output_type": "stream",
     "text": [
      "Object `continent` not found.\n",
      "Continent\n",
      "Africa            125.047646\n",
      "Asia             1025.024136\n",
      "Europe            663.324742\n",
      "North America     272.761758\n",
      "Oceania           132.543065\n",
      "South America      20.971979\n",
      "Name: Density (per km²), dtype: float64\n"
     ]
    }
   ],
   "source": [
    "//What is the average density (per km²) for each continent?\n",
    "avg_density_by_continent = df.groupby('Continent')['Density (per km²)'].mean()\n",
    "print(avg_density_by_continent)\n"
   ]
  },
  {
   "cell_type": "code",
   "execution_count": 12,
   "id": "45ca5478-5ebd-4de1-9623-62779c1450a4",
   "metadata": {},
   "outputs": [
    {
     "name": "stdout",
     "output_type": "stream",
     "text": [
      "Object `lowest` not found.\n",
      "Highest population country:    Country/Territory  2022 Population\n",
      "41             China       1425887337\n",
      "Lowest population country:     Country/Territory  2022 Population\n",
      "226      Vatican City              510\n"
     ]
    }
   ],
   "source": [
    "//Which country/territory had the highest population in 2022? Which had the lowest?\n",
    "highest_population_country = df[df['2022 Population'] == df['2022 Population'].max()]\n",
    "lowest_population_country = df[df['2022 Population'] == df['2022 Population'].min()]\n",
    "print(f\"Highest population country: {highest_population_country[['Country/Territory', '2022 Population']]}\")\n",
    "print(f\"Lowest population country: {lowest_population_country[['Country/Territory', '2022 Population']]}\")\n"
   ]
  },
  {
   "cell_type": "code",
   "execution_count": null,
   "id": "82c126b3-fe2c-4e1f-8576-41e379f7178b",
   "metadata": {},
   "outputs": [],
   "source": []
  }
 ],
 "metadata": {
  "kernelspec": {
   "display_name": "Python 3 (ipykernel)",
   "language": "python",
   "name": "python3"
  },
  "language_info": {
   "codemirror_mode": {
    "name": "ipython",
    "version": 3
   },
   "file_extension": ".py",
   "mimetype": "text/x-python",
   "name": "python",
   "nbconvert_exporter": "python",
   "pygments_lexer": "ipython3",
   "version": "3.10.14"
  }
 },
 "nbformat": 4,
 "nbformat_minor": 5
}
